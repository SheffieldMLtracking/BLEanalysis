{
 "cells": [
  {
   "cell_type": "code",
   "execution_count": null,
   "id": "6646a02e-e0b8-49e9-a667-db2999ef331f",
   "metadata": {},
   "outputs": [],
   "source": [
    "from BLEanalysis.synthetic import SimpleDemo\n",
    "from BLEanalysis.kernels import ExponentiatedQuadraticKernel\n",
    "from BLEanalysis.pathinference import Path_VectorsToBee\n",
    "import numpy as np\n",
    "\n",
    "demo = SimpleDemo()\n",
    "k = ExponentiatedQuadraticKernel(7.0,5.0)\n",
    "path = Path_VectorsToBee(demo.obstimes,demo.observations,k,1.0,8)\n",
    "path.run(200,learning_rate=5)\n",
    "print(path.calc_elbo(path.surrogate_mean,path.surrogate_cov_tril))\n",
    "demo.plot()\n",
    "path.plot()"
   ]
  },
  {
   "cell_type": "code",
   "execution_count": null,
   "id": "1fb29fb3-daf9-46cc-ab59-ba46ab32d3d0",
   "metadata": {},
   "outputs": [],
   "source": []
  }
 ],
 "metadata": {
  "kernelspec": {
   "display_name": "Python 3 (ipykernel)",
   "language": "python",
   "name": "python3"
  },
  "language_info": {
   "codemirror_mode": {
    "name": "ipython",
    "version": 3
   },
   "file_extension": ".py",
   "mimetype": "text/x-python",
   "name": "python",
   "nbconvert_exporter": "python",
   "pygments_lexer": "ipython3",
   "version": "3.12.2"
  }
 },
 "nbformat": 4,
 "nbformat_minor": 5
}
